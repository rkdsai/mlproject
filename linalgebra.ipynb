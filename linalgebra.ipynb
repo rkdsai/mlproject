{
 "cells": [
  {
   "cell_type": "code",
   "execution_count": 1,
   "metadata": {},
   "outputs": [
    {
     "name": "stdout",
     "output_type": "stream",
     "text": [
      "Vector 1: [1, 2, 3]\n",
      "Vector 2: [4 5 6]\n"
     ]
    }
   ],
   "source": [
    "import numpy as np\n",
    "\n",
    "# Creating a vector using a list\n",
    "vector_1 = [1, 2, 3]\n",
    "\n",
    "# Creating a vector using a NumPy array\n",
    "vector_2 = np.array([4, 5, 6])\n",
    "\n",
    "print(\"Vector 1:\", vector_1)\n",
    "print(\"Vector 2:\", vector_2)"
   ]
  },
  {
   "cell_type": "code",
   "execution_count": 2,
   "metadata": {},
   "outputs": [
    {
     "name": "stdout",
     "output_type": "stream",
     "text": [
      "Vector sum: [5 7 9]\n",
      "Scaled vector: [2 4 6]\n",
      "Dot product: 32\n"
     ]
    }
   ],
   "source": [
    "import numpy as np\n",
    "\n",
    "vector_1 = np.array([1, 2, 3])\n",
    "vector_2 = np.array([4, 5, 6])\n",
    "\n",
    "# Vector addition\n",
    "vector_sum = vector_1 + vector_2\n",
    "print(\"Vector sum:\", vector_sum)\n",
    "\n",
    "# Scalar multiplication\n",
    "scalar = 2\n",
    "vector_scaled = scalar * vector_1\n",
    "print(\"Scaled vector:\", vector_scaled)\n",
    "\n",
    "# Dot product\n",
    "dot_product = np.dot(vector_1, vector_2)\n",
    "print(\"Dot product:\", dot_product)"
   ]
  },
  {
   "cell_type": "code",
   "execution_count": 3,
   "metadata": {},
   "outputs": [
    {
     "name": "stdout",
     "output_type": "stream",
     "text": [
      "Matrix 1:\n",
      " [[1 2]\n",
      " [3 4]\n",
      " [5 6]]\n",
      "\n",
      "Element at (1, 1): 2\n",
      "\n",
      "Matrix shape: (3, 2)\n"
     ]
    }
   ],
   "source": [
    "import numpy as np\n",
    "\n",
    "# Creating a matrix\n",
    "matrix_1 = np.array([[1, 2], [3, 4], [5, 6]])\n",
    "print(\"Matrix 1:\\n\", matrix_1)\n",
    "\n",
    "# Accessing matrix elements\n",
    "print(\"\\nElement at (1, 1):\", matrix_1[0, 1])\n",
    "\n",
    "# Matrix shape\n",
    "print(\"\\nMatrix shape:\", matrix_1.shape)"
   ]
  },
  {
   "cell_type": "code",
   "execution_count": 4,
   "metadata": {},
   "outputs": [
    {
     "name": "stdout",
     "output_type": "stream",
     "text": [
      "Matrix sum:\n",
      " [[ 6  8]\n",
      " [10 12]]\n",
      "\n",
      "Scaled matrix:\n",
      " [[2 4]\n",
      " [6 8]]\n",
      "\n",
      "Matrix product:\n",
      " [[19 22]\n",
      " [43 50]]\n"
     ]
    }
   ],
   "source": [
    "import numpy as np\n",
    "\n",
    "matrix_1 = np.array([[1, 2], [3, 4]])\n",
    "matrix_2 = np.array([[5, 6], [7, 8]])\n",
    "\n",
    "# Matrix addition\n",
    "matrix_sum = matrix_1 + matrix_2\n",
    "print(\"Matrix sum:\\n\", matrix_sum)\n",
    "\n",
    "# Scalar multiplication\n",
    "scalar = 2\n",
    "matrix_scaled = scalar * matrix_1\n",
    "print(\"\\nScaled matrix:\\n\", matrix_scaled)\n",
    "\n",
    "# Matrix multiplication\n",
    "matrix_product = np.matmul(matrix_1, matrix_2)\n",
    "print(\"\\nMatrix product:\\n\", matrix_product)"
   ]
  },
  {
   "cell_type": "code",
   "execution_count": 5,
   "metadata": {},
   "outputs": [
    {
     "name": "stdout",
     "output_type": "stream",
     "text": [
      "Solution:\n",
      "[0.8 3.4]\n"
     ]
    }
   ],
   "source": [
    "import numpy as np\n",
    "\n",
    "# Coefficients of the linear equations\n",
    "A = np.array([[2, 1], [1, 3]])\n",
    "b = np.array([5, 11])\n",
    "\n",
    "# Solving the system of linear equations\n",
    "x = np.linalg.solve(A, b)\n",
    "\n",
    "print(\"Solution:\")\n",
    "print(x)"
   ]
  },
  {
   "cell_type": "code",
   "execution_count": 6,
   "metadata": {},
   "outputs": [
    {
     "name": "stdout",
     "output_type": "stream",
     "text": [
      "Eigenvalues:\n",
      "[4. 2.]\n",
      "\n",
      "Eigenvectors:\n",
      "[[ 0.70710678 -0.70710678]\n",
      " [ 0.70710678  0.70710678]]\n"
     ]
    }
   ],
   "source": [
    "import numpy as np\n",
    "\n",
    "# Matrix\n",
    "A = np.array([[3, 1], [1, 3]])\n",
    "\n",
    "# Computing eigenvalues and eigenvectors\n",
    "eigenvalues, eigenvectors = np.linalg.eig(A)\n",
    "\n",
    "print(\"Eigenvalues:\")\n",
    "print(eigenvalues)\n",
    "\n",
    "print(\"\\nEigenvectors:\")\n",
    "print(eigenvectors)"
   ]
  },
  {
   "cell_type": "code",
   "execution_count": 7,
   "metadata": {},
   "outputs": [
    {
     "name": "stdout",
     "output_type": "stream",
     "text": [
      "Slope (m): 1.6999999999999997\n",
      "Intercept (c): 0.2999999999999996\n"
     ]
    }
   ],
   "source": [
    "import numpy as np\n",
    "\n",
    "# Data points\n",
    "x_data = np.array([1, 2, 3, 4, 5])\n",
    "y_data = np.array([2, 4, 5, 7, 9])\n",
    "\n",
    "# Performing least squares fitting\n",
    "A = np.vstack([x_data, np.ones(len(x_data))]).T\n",
    "m, c = np.linalg.lstsq(A, y_data, rcond=None)[0]\n",
    "\n",
    "print(\"Slope (m):\", m)\n",
    "print(\"Intercept (c):\", c)"
   ]
  },
  {
   "cell_type": "code",
   "execution_count": 8,
   "metadata": {},
   "outputs": [
    {
     "name": "stdout",
     "output_type": "stream",
     "text": [
      "U:\n",
      " [[-0.2298477   0.88346102  0.40824829]\n",
      " [-0.52474482  0.24078249 -0.81649658]\n",
      " [-0.81964194 -0.40189603  0.40824829]]\n",
      "\n",
      "Singular Values:\n",
      " [9.52551809 0.51430058]\n",
      "\n",
      "VT:\n",
      " [[-0.61962948 -0.78489445]\n",
      " [-0.78489445  0.61962948]]\n"
     ]
    }
   ],
   "source": [
    "import numpy as np\n",
    "\n",
    "# Matrix\n",
    "A = np.array([[1, 2], [3, 4], [5, 6]])\n",
    "\n",
    "# Performing SVD\n",
    "U, s, VT = np.linalg.svd(A, full_matrices=True)\n",
    "\n",
    "print(\"U:\\n\", U)\n",
    "print(\"\\nSingular Values:\\n\", s)\n",
    "print(\"\\nVT:\\n\", VT)"
   ]
  },
  {
   "cell_type": "code",
   "execution_count": 9,
   "metadata": {},
   "outputs": [
    {
     "name": "stdout",
     "output_type": "stream",
     "text": [
      "Original vector: [1 2]\n",
      "Transformed vector: [ 5 11]\n"
     ]
    }
   ],
   "source": [
    "import numpy as np\n",
    "\n",
    "# Matrix representing a linear transformation\n",
    "T = np.array([[1, 2], [3, 4]])\n",
    "\n",
    "# Vector to be transformed\n",
    "v = np.array([1, 2])\n",
    "\n",
    "# Applying the linear transformation\n",
    "transformed_v = np.dot(T, v)\n",
    "\n",
    "print(\"Original vector:\", v)\n",
    "print(\"Transformed vector:\", transformed_v)"
   ]
  },
  {
   "cell_type": "code",
   "execution_count": 10,
   "metadata": {},
   "outputs": [
    {
     "name": "stdout",
     "output_type": "stream",
     "text": [
      "Original vector: [1 1]\n",
      "Projected vector: [1. 1.]\n"
     ]
    }
   ],
   "source": [
    "import numpy as np\n",
    "\n",
    "# Creating an orthogonal matrix\n",
    "Q = np.array([[1/np.sqrt(2), 1/np.sqrt(2)], [-1/np.sqrt(2), 1/np.sqrt(2)]])\n",
    "\n",
    "# Vector to be projected\n",
    "v = np.array([1, 1])\n",
    "\n",
    "# Projecting the vector onto the column space of Q\n",
    "projected_v = np.dot(Q, np.dot(Q.T, v))\n",
    "\n",
    "print(\"Original vector:\", v)\n",
    "print(\"Projected vector:\", projected_v)"
   ]
  },
  {
   "cell_type": "code",
   "execution_count": 12,
   "metadata": {},
   "outputs": [
    {
     "name": "stdout",
     "output_type": "stream",
     "text": [
      "Slope (m): 1.7000000000000002\n",
      "Intercept (c): 0.2999999999999998\n"
     ]
    }
   ],
   "source": [
    "import numpy as np\n",
    "from sklearn.linear_model import LinearRegression\n",
    "\n",
    "# Data\n",
    "X = np.array([[1], [2], [3], [4], [5]])\n",
    "y = np.array([2, 4, 5, 7, 9])\n",
    "\n",
    "# Creating a linear regression model\n",
    "model = LinearRegression()\n",
    "\n",
    "# Fitting the model to the data\n",
    "model.fit(X, y)\n",
    "\n",
    "# Printing the coefficients\n",
    "print(\"Slope (m):\", model.coef_[0])\n",
    "print(\"Intercept (c):\", model.intercept_)"
   ]
  },
  {
   "cell_type": "code",
   "execution_count": 13,
   "metadata": {},
   "outputs": [
    {
     "name": "stdout",
     "output_type": "stream",
     "text": [
      "Transformed data:\n",
      "[[-0.82797019 -0.17511531]\n",
      " [ 1.77758033  0.14285723]\n",
      " [-0.99219749  0.38437499]\n",
      " [-0.27421042  0.13041721]\n",
      " [-1.67580142 -0.20949846]\n",
      " [-0.9129491   0.17528244]\n",
      " [ 0.09910944 -0.3498247 ]\n",
      " [ 1.14457216  0.04641726]\n",
      " [ 0.43804614  0.01776463]\n",
      " [ 1.22382056 -0.16267529]]\n"
     ]
    }
   ],
   "source": [
    "import numpy as np\n",
    "from sklearn.decomposition import PCA\n",
    "\n",
    "# Sample data\n",
    "X = np.array([[2.5, 2.4], [0.5, 0.7], [2.2, 2.9], [1.9, 2.2], [3.1, 3.0], [2.3, 2.7], [2.0, 1.6], [1.0, 1.1], [1.5, 1.6], [1.1, 0.9]])\n",
    "\n",
    "# Creating a PCA model\n",
    "pca = PCA(n_components=2)\n",
    "\n",
    "# Fitting the model to the data\n",
    "X_transformed = pca.fit_transform(X)\n",
    "\n",
    "print(\"Transformed data:\")\n",
    "print(X_transformed)"
   ]
  },
  {
   "cell_type": "code",
   "execution_count": null,
   "metadata": {},
   "outputs": [],
   "source": []
  }
 ],
 "metadata": {
  "kernelspec": {
   "display_name": "Python 3",
   "language": "python",
   "name": "python3"
  },
  "language_info": {
   "codemirror_mode": {
    "name": "ipython",
    "version": 3
   },
   "file_extension": ".py",
   "mimetype": "text/x-python",
   "name": "python",
   "nbconvert_exporter": "python",
   "pygments_lexer": "ipython3",
   "version": "3.8.19"
  }
 },
 "nbformat": 4,
 "nbformat_minor": 2
}
